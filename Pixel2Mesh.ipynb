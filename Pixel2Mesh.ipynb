{
  "nbformat": 4,
  "nbformat_minor": 0,
  "metadata": {
    "colab": {
      "name": "TensorFlow with GPU",
      "version": "0.3.2",
      "provenance": [],
      "collapsed_sections": [],
      "include_colab_link": true
    },
    "kernelspec": {
      "display_name": "Python 2",
      "name": "python2"
    },
    "accelerator": "GPU"
  },
  "cells": [
    {
      "cell_type": "markdown",
      "metadata": {
        "id": "view-in-github",
        "colab_type": "text"
      },
      "source": [
        "[View in Colaboratory](https://colab.research.google.com/github/sharmer156/100-Days-Of-ML-Code/blob/master/Pixel2Mesh.ipynb)"
      ]
    },
    {
      "metadata": {
        "id": "BlmQIFSLZDdc",
        "colab_type": "text"
      },
      "cell_type": "markdown",
      "source": [
        "# Confirm TensorFlow can see the GPU\n",
        "\n",
        "Simply select \"GPU\" in the Accelerator drop-down in Notebook Settings (either through the Edit menu or the command palette at cmd/ctrl-shift-P)."
      ]
    },
    {
      "metadata": {
        "id": "K4JqtaprGA66",
        "colab_type": "text"
      },
      "cell_type": "markdown",
      "source": [
        "# Generating 3D Mesh Models from Single RGB Images. In ECCV2018.\n",
        "https://github.com/nywang16/Pixel2Mesh\n",
        "数据集过大无法云端训练"
      ]
    },
    {
      "metadata": {
        "id": "3IEVK-KFxi5Z",
        "colab_type": "code",
        "colab": {
          "base_uri": "https://localhost:8080/",
          "height": 34
        },
        "outputId": "0940e8b1-5283-4b2d-e3e6-8853f3deb804"
      },
      "cell_type": "code",
      "source": [
        "import tensorflow as tf\n",
        "device_name = tf.test.gpu_device_name()\n",
        "if device_name != '/device:GPU:0':\n",
        "  raise SystemError('GPU device not found')\n",
        "print('Found GPU at: {}'.format(device_name))"
      ],
      "execution_count": 0,
      "outputs": [
        {
          "output_type": "stream",
          "text": [
            "Found GPU at: /device:GPU:0\n"
          ],
          "name": "stdout"
        }
      ]
    },
    {
      "metadata": {
        "id": "QXRh0DPiZRyG",
        "colab_type": "text"
      },
      "cell_type": "markdown",
      "source": [
        "# Observe TensorFlow speedup on GPU relative to CPU\n",
        "\n",
        "This example constructs a typical convolutional neural network layer over a\n",
        "random image and manually places the resulting ops on either the CPU or the GPU\n",
        "to compare execution speed."
      ]
    },
    {
      "metadata": {
        "id": "t9ALbbpmY9rm",
        "colab_type": "code",
        "colab": {
          "base_uri": "https://localhost:8080/",
          "height": 119
        },
        "outputId": "c5ee74e3-f88b-4660-dcba-354d09fa5659"
      },
      "cell_type": "code",
      "source": [
        "import tensorflow as tf\n",
        "import timeit\n",
        "\n",
        "# See https://www.tensorflow.org/tutorials/using_gpu#allowing_gpu_memory_growth\n",
        "config = tf.ConfigProto()\n",
        "config.gpu_options.allow_growth = True\n",
        "\n",
        "with tf.device('/cpu:0'):\n",
        "  random_image_cpu = tf.random_normal((100, 100, 100, 3))\n",
        "  net_cpu = tf.layers.conv2d(random_image_cpu, 32, 7)\n",
        "  net_cpu = tf.reduce_sum(net_cpu)\n",
        "\n",
        "with tf.device('/gpu:0'):\n",
        "  random_image_gpu = tf.random_normal((100, 100, 100, 3))\n",
        "  net_gpu = tf.layers.conv2d(random_image_gpu, 32, 7)\n",
        "  net_gpu = tf.reduce_sum(net_gpu)\n",
        "\n",
        "sess = tf.Session(config=config)\n",
        "\n",
        "# Test execution once to detect errors early.\n",
        "try:\n",
        "  sess.run(tf.global_variables_initializer())\n",
        "except tf.errors.InvalidArgumentError:\n",
        "  print(\n",
        "      '\\n\\nThis error most likely means that this notebook is not '\n",
        "      'configured to use a GPU.  Change this in Notebook Settings via the '\n",
        "      'command palette (cmd/ctrl-shift-P) or the Edit menu.\\n\\n')\n",
        "  raise\n",
        "\n",
        "def cpu():\n",
        "  sess.run(net_cpu)\n",
        "  \n",
        "def gpu():\n",
        "  sess.run(net_gpu)\n",
        "  \n",
        "# Runs the op several times.\n",
        "print('Time (s) to convolve 32x7x7x3 filter over random 100x100x100x3 images '\n",
        "      '(batch x height x width x channel). Sum of ten runs.')\n",
        "print('CPU (s):')\n",
        "cpu_time = timeit.timeit('cpu()', number=10, setup=\"from __main__ import cpu\")\n",
        "print(cpu_time)\n",
        "print('GPU (s):')\n",
        "gpu_time = timeit.timeit('gpu()', number=10, setup=\"from __main__ import gpu\")\n",
        "print(gpu_time)\n",
        "print('GPU speedup over CPU: {}x'.format(int(cpu_time/gpu_time)))\n",
        "\n",
        "sess.close()"
      ],
      "execution_count": 0,
      "outputs": [
        {
          "output_type": "stream",
          "text": [
            "Time (s) to convolve 32x7x7x3 filter over random 100x100x100x3 images (batch x height x width x channel). Sum of ten runs.\n",
            "CPU (s):\n",
            "8.350230318000058\n",
            "GPU (s):\n",
            "0.1842791589999706\n",
            "GPU speedup over CPU: 45x\n"
          ],
          "name": "stdout"
        }
      ]
    },
    {
      "metadata": {
        "id": "aPMk15Xr-Qij",
        "colab_type": "code",
        "colab": {
          "base_uri": "https://localhost:8080/",
          "height": 102
        },
        "outputId": "11632707-5c71-413a-80a5-354633a4735f"
      },
      "cell_type": "code",
      "source": [
        "!git clone https://github.com/nywang16/Pixel2Mesh.git"
      ],
      "execution_count": 1,
      "outputs": [
        {
          "output_type": "stream",
          "text": [
            "Cloning into 'Pixel2Mesh'...\n",
            "remote: Counting objects: 43, done.\u001b[K\n",
            "remote: Compressing objects: 100% (8/8), done.\u001b[K\n",
            "remote: Total 43 (delta 3), reused 2 (delta 0), pack-reused 35\u001b[K\n",
            "Unpacking objects: 100% (43/43), done.\n"
          ],
          "name": "stdout"
        }
      ]
    },
    {
      "metadata": {
        "id": "5ppJVyjm-ej7",
        "colab_type": "code",
        "colab": {
          "base_uri": "https://localhost:8080/",
          "height": 34
        },
        "outputId": "e7d25834-812f-4d1f-958f-fcbcbc667a3c"
      },
      "cell_type": "code",
      "source": [
        "cd Pixel2Mesh"
      ],
      "execution_count": 2,
      "outputs": [
        {
          "output_type": "stream",
          "text": [
            "/content/Pixel2Mesh\n"
          ],
          "name": "stdout"
        }
      ]
    },
    {
      "metadata": {
        "id": "UYVhSOvs-h6r",
        "colab_type": "code",
        "colab": {
          "base_uri": "https://localhost:8080/",
          "height": 3488
        },
        "outputId": "187dfe8f-70a2-465b-a70b-c3f50e5888e4"
      },
      "cell_type": "code",
      "source": [
        "!python setup.py install"
      ],
      "execution_count": 3,
      "outputs": [
        {
          "output_type": "stream",
          "text": [
            "running install\n",
            "running bdist_egg\n",
            "running egg_info\n",
            "creating pixel2mesh.egg-info\n",
            "writing requirements to pixel2mesh.egg-info/requires.txt\n",
            "writing pixel2mesh.egg-info/PKG-INFO\n",
            "writing top-level names to pixel2mesh.egg-info/top_level.txt\n",
            "writing dependency_links to pixel2mesh.egg-info/dependency_links.txt\n",
            "writing manifest file 'pixel2mesh.egg-info/SOURCES.txt'\n",
            "reading manifest file 'pixel2mesh.egg-info/SOURCES.txt'\n",
            "writing manifest file 'pixel2mesh.egg-info/SOURCES.txt'\n",
            "installing library code to build/bdist.linux-x86_64/egg\n",
            "running install_lib\n",
            "running build_py\n",
            "creating build\n",
            "creating build/lib.linux-x86_64-2.7\n",
            "creating build/lib.linux-x86_64-2.7/pixel2mesh\n",
            "copying pixel2mesh/layers.py -> build/lib.linux-x86_64-2.7/pixel2mesh\n",
            "copying pixel2mesh/fetcher.py -> build/lib.linux-x86_64-2.7/pixel2mesh\n",
            "copying pixel2mesh/train.py -> build/lib.linux-x86_64-2.7/pixel2mesh\n",
            "copying pixel2mesh/cd_dist.py -> build/lib.linux-x86_64-2.7/pixel2mesh\n",
            "copying pixel2mesh/inits.py -> build/lib.linux-x86_64-2.7/pixel2mesh\n",
            "copying pixel2mesh/demo.py -> build/lib.linux-x86_64-2.7/pixel2mesh\n",
            "copying pixel2mesh/__init__.py -> build/lib.linux-x86_64-2.7/pixel2mesh\n",
            "copying pixel2mesh/losses.py -> build/lib.linux-x86_64-2.7/pixel2mesh\n",
            "copying pixel2mesh/models.py -> build/lib.linux-x86_64-2.7/pixel2mesh\n",
            "creating build/bdist.linux-x86_64\n",
            "creating build/bdist.linux-x86_64/egg\n",
            "creating build/bdist.linux-x86_64/egg/pixel2mesh\n",
            "copying build/lib.linux-x86_64-2.7/pixel2mesh/layers.py -> build/bdist.linux-x86_64/egg/pixel2mesh\n",
            "copying build/lib.linux-x86_64-2.7/pixel2mesh/fetcher.py -> build/bdist.linux-x86_64/egg/pixel2mesh\n",
            "copying build/lib.linux-x86_64-2.7/pixel2mesh/train.py -> build/bdist.linux-x86_64/egg/pixel2mesh\n",
            "copying build/lib.linux-x86_64-2.7/pixel2mesh/cd_dist.py -> build/bdist.linux-x86_64/egg/pixel2mesh\n",
            "copying build/lib.linux-x86_64-2.7/pixel2mesh/inits.py -> build/bdist.linux-x86_64/egg/pixel2mesh\n",
            "copying build/lib.linux-x86_64-2.7/pixel2mesh/demo.py -> build/bdist.linux-x86_64/egg/pixel2mesh\n",
            "copying build/lib.linux-x86_64-2.7/pixel2mesh/__init__.py -> build/bdist.linux-x86_64/egg/pixel2mesh\n",
            "copying build/lib.linux-x86_64-2.7/pixel2mesh/losses.py -> build/bdist.linux-x86_64/egg/pixel2mesh\n",
            "copying build/lib.linux-x86_64-2.7/pixel2mesh/models.py -> build/bdist.linux-x86_64/egg/pixel2mesh\n",
            "byte-compiling build/bdist.linux-x86_64/egg/pixel2mesh/layers.py to layers.pyc\n",
            "byte-compiling build/bdist.linux-x86_64/egg/pixel2mesh/fetcher.py to fetcher.pyc\n",
            "byte-compiling build/bdist.linux-x86_64/egg/pixel2mesh/train.py to train.pyc\n",
            "byte-compiling build/bdist.linux-x86_64/egg/pixel2mesh/cd_dist.py to cd_dist.pyc\n",
            "byte-compiling build/bdist.linux-x86_64/egg/pixel2mesh/inits.py to inits.pyc\n",
            "byte-compiling build/bdist.linux-x86_64/egg/pixel2mesh/demo.py to demo.pyc\n",
            "byte-compiling build/bdist.linux-x86_64/egg/pixel2mesh/__init__.py to __init__.pyc\n",
            "byte-compiling build/bdist.linux-x86_64/egg/pixel2mesh/losses.py to losses.pyc\n",
            "byte-compiling build/bdist.linux-x86_64/egg/pixel2mesh/models.py to models.pyc\n",
            "creating build/bdist.linux-x86_64/egg/EGG-INFO\n",
            "copying pixel2mesh.egg-info/PKG-INFO -> build/bdist.linux-x86_64/egg/EGG-INFO\n",
            "copying pixel2mesh.egg-info/SOURCES.txt -> build/bdist.linux-x86_64/egg/EGG-INFO\n",
            "copying pixel2mesh.egg-info/dependency_links.txt -> build/bdist.linux-x86_64/egg/EGG-INFO\n",
            "copying pixel2mesh.egg-info/requires.txt -> build/bdist.linux-x86_64/egg/EGG-INFO\n",
            "copying pixel2mesh.egg-info/top_level.txt -> build/bdist.linux-x86_64/egg/EGG-INFO\n",
            "zip_safe flag not set; analyzing archive contents...\n",
            "creating dist\n",
            "creating 'dist/pixel2mesh-1.0-py2.7.egg' and adding 'build/bdist.linux-x86_64/egg' to it\n",
            "removing 'build/bdist.linux-x86_64/egg' (and everything under it)\n",
            "Processing pixel2mesh-1.0-py2.7.egg\n",
            "Copying pixel2mesh-1.0-py2.7.egg to /usr/local/lib/python2.7/dist-packages\n",
            "Adding pixel2mesh 1.0 to easy-install.pth file\n",
            "\n",
            "Installed /usr/local/lib/python2.7/dist-packages/pixel2mesh-1.0-py2.7.egg\n",
            "Processing dependencies for pixel2mesh==1.0\n",
            "Searching for tflearn\n",
            "Reading https://pypi.org/simple/tflearn/\n",
            "Downloading https://files.pythonhosted.org/packages/16/ec/e9ce1b52e71f6dff3bd944f020cef7140779e783ab27512ea7c7275ddee5/tflearn-0.3.2.tar.gz#sha256=3f58016039817450a89a49cd6973edbe4e0652aedd709289917e4746f5da940c\n",
            "Best match: tflearn 0.3.2\n",
            "Processing tflearn-0.3.2.tar.gz\n",
            "Writing /tmp/easy_install-EVhIkO/tflearn-0.3.2/setup.cfg\n",
            "Running tflearn-0.3.2/setup.py -q bdist_egg --dist-dir /tmp/easy_install-EVhIkO/tflearn-0.3.2/egg-dist-tmp-m8uWCr\n",
            "zip_safe flag not set; analyzing archive contents...\n",
            "Moving tflearn-0.3.2-py2.7.egg to /usr/local/lib/python2.7/dist-packages\n",
            "Adding tflearn 0.3.2 to easy-install.pth file\n",
            "\n",
            "Installed /usr/local/lib/python2.7/dist-packages/tflearn-0.3.2-py2.7.egg\n",
            "Searching for opencv-python==3.4.2.17\n",
            "Best match: opencv-python 3.4.2.17\n",
            "Adding opencv-python 3.4.2.17 to easy-install.pth file\n",
            "\n",
            "Using /usr/local/lib/python2.7/dist-packages\n",
            "Searching for tensorflow==1.10.1\n",
            "Best match: tensorflow 1.10.1\n",
            "Adding tensorflow 1.10.1 to easy-install.pth file\n",
            "Installing tflite_convert script to /usr/local/bin\n",
            "Installing toco script to /usr/local/bin\n",
            "Installing toco_from_protos script to /usr/local/bin\n",
            "Installing freeze_graph script to /usr/local/bin\n",
            "Installing tensorboard script to /usr/local/bin\n",
            "Installing saved_model_cli script to /usr/local/bin\n",
            "\n",
            "Using /usr/local/lib/python2.7/dist-packages\n",
            "Searching for numpy==1.14.5\n",
            "Best match: numpy 1.14.5\n",
            "Adding numpy 1.14.5 to easy-install.pth file\n",
            "\n",
            "Using /usr/local/lib/python2.7/dist-packages\n",
            "Searching for Pillow==4.0.0\n",
            "Best match: Pillow 4.0.0\n",
            "Adding Pillow 4.0.0 to easy-install.pth file\n",
            "\n",
            "Using /usr/local/lib/python2.7/dist-packages\n",
            "Searching for six==1.11.0\n",
            "Best match: six 1.11.0\n",
            "Adding six 1.11.0 to easy-install.pth file\n",
            "\n",
            "Using /usr/local/lib/python2.7/dist-packages\n",
            "Searching for astor==0.7.1\n",
            "Best match: astor 0.7.1\n",
            "Adding astor 0.7.1 to easy-install.pth file\n",
            "\n",
            "Using /usr/local/lib/python2.7/dist-packages\n",
            "Searching for setuptools==39.1.0\n",
            "Best match: setuptools 39.1.0\n",
            "Adding setuptools 39.1.0 to easy-install.pth file\n",
            "Installing easy_install script to /usr/local/bin\n",
            "Installing easy_install-3.6 script to /usr/local/bin\n",
            "\n",
            "Using /usr/local/lib/python2.7/dist-packages\n",
            "Searching for backports.weakref==1.0.post1\n",
            "Best match: backports.weakref 1.0.post1\n",
            "Adding backports.weakref 1.0.post1 to easy-install.pth file\n",
            "\n",
            "Using /usr/local/lib/python2.7/dist-packages\n",
            "Searching for termcolor==1.1.0\n",
            "Best match: termcolor 1.1.0\n",
            "Adding termcolor 1.1.0 to easy-install.pth file\n",
            "\n",
            "Using /usr/local/lib/python2.7/dist-packages\n",
            "Searching for tensorboard==1.10.0\n",
            "Best match: tensorboard 1.10.0\n",
            "Adding tensorboard 1.10.0 to easy-install.pth file\n",
            "Installing tensorboard script to /usr/local/bin\n",
            "\n",
            "Using /usr/local/lib/python2.7/dist-packages\n",
            "Searching for wheel==0.31.1\n",
            "Best match: wheel 0.31.1\n",
            "Adding wheel 0.31.1 to easy-install.pth file\n",
            "Installing wheel script to /usr/local/bin\n",
            "\n",
            "Using /usr/local/lib/python2.7/dist-packages\n",
            "Searching for absl-py==0.4.1\n",
            "Best match: absl-py 0.4.1\n",
            "Adding absl-py 0.4.1 to easy-install.pth file\n",
            "\n",
            "Using /usr/local/lib/python2.7/dist-packages\n",
            "Searching for gast==0.2.0\n",
            "Best match: gast 0.2.0\n",
            "Adding gast 0.2.0 to easy-install.pth file\n",
            "\n",
            "Using /usr/local/lib/python2.7/dist-packages\n",
            "Searching for enum34==1.1.6\n",
            "Best match: enum34 1.1.6\n",
            "Adding enum34 1.1.6 to easy-install.pth file\n",
            "\n",
            "Using /usr/local/lib/python2.7/dist-packages\n",
            "Searching for protobuf==3.6.1\n",
            "Best match: protobuf 3.6.1\n",
            "Adding protobuf 3.6.1 to easy-install.pth file\n",
            "\n",
            "Using /usr/local/lib/python2.7/dist-packages\n",
            "Searching for grpcio==1.14.2\n",
            "Best match: grpcio 1.14.2\n",
            "Adding grpcio 1.14.2 to easy-install.pth file\n",
            "\n",
            "Using /usr/local/lib/python2.7/dist-packages\n",
            "Searching for mock==2.0.0\n",
            "Best match: mock 2.0.0\n",
            "Adding mock 2.0.0 to easy-install.pth file\n",
            "\n",
            "Using /usr/local/lib/python2.7/dist-packages\n",
            "Searching for olefile==0.45.1\n",
            "Best match: olefile 0.45.1\n",
            "Adding olefile 0.45.1 to easy-install.pth file\n",
            "\n",
            "Using /usr/local/lib/python2.7/dist-packages\n",
            "Searching for Markdown==2.6.11\n",
            "Best match: Markdown 2.6.11\n",
            "Adding Markdown 2.6.11 to easy-install.pth file\n",
            "Installing markdown_py script to /usr/local/bin\n",
            "\n",
            "Using /usr/local/lib/python2.7/dist-packages\n",
            "Searching for Werkzeug==0.14.1\n",
            "Best match: Werkzeug 0.14.1\n",
            "Adding Werkzeug 0.14.1 to easy-install.pth file\n",
            "\n",
            "Using /usr/local/lib/python2.7/dist-packages\n",
            "Searching for futures==3.2.0\n",
            "Best match: futures 3.2.0\n",
            "Adding futures 3.2.0 to easy-install.pth file\n",
            "\n",
            "Using /usr/local/lib/python2.7/dist-packages\n",
            "Searching for pbr==4.2.0\n",
            "Best match: pbr 4.2.0\n",
            "Adding pbr 4.2.0 to easy-install.pth file\n",
            "Installing pbr script to /usr/local/bin\n",
            "\n",
            "Using /usr/local/lib/python2.7/dist-packages\n",
            "Searching for funcsigs==1.0.2\n",
            "Best match: funcsigs 1.0.2\n",
            "Adding funcsigs 1.0.2 to easy-install.pth file\n",
            "\n",
            "Using /usr/local/lib/python2.7/dist-packages\n",
            "Finished processing dependencies for pixel2mesh==1.0\n"
          ],
          "name": "stdout"
        }
      ]
    },
    {
      "metadata": {
        "id": "fawaIZfH-u7r",
        "colab_type": "code",
        "colab": {}
      },
      "cell_type": "code",
      "source": [
        "!cd pixel2mesh/utils"
      ],
      "execution_count": 0,
      "outputs": []
    },
    {
      "metadata": {
        "id": "CXVCMynI-2NC",
        "colab_type": "code",
        "colab": {
          "base_uri": "https://localhost:8080/",
          "height": 51
        },
        "outputId": "10fcaa36-037f-41ea-99ae-bcafceaf4bec"
      },
      "cell_type": "code",
      "source": [
        "!wget http://bigvid.fudan.edu.cn/pixel2mesh/eccv2018/checkpoint.zip"
      ],
      "execution_count": 5,
      "outputs": [
        {
          "output_type": "stream",
          "text": [
            "\n",
            "Redirecting output to ‘wget-log’.\n"
          ],
          "name": "stdout"
        }
      ]
    },
    {
      "metadata": {
        "id": "djU7fkmz_MvS",
        "colab_type": "code",
        "colab": {
          "base_uri": "https://localhost:8080/",
          "height": 119
        },
        "outputId": "585a72a6-3f35-4355-eb59-9590671ee5a8"
      },
      "cell_type": "code",
      "source": [
        "!unzip checkpoint.zip"
      ],
      "execution_count": 6,
      "outputs": [
        {
          "output_type": "stream",
          "text": [
            "Archive:  checkpoint.zip\n",
            "   creating: checkpoint/\n",
            "  inflating: checkpoint/checkpoint   \n",
            "  inflating: checkpoint/gcn.ckpt.index  \n",
            "  inflating: checkpoint/gcn.ckpt.meta  \n",
            "  inflating: checkpoint/gcn.ckpt.data-00000-of-00001  \n"
          ],
          "name": "stdout"
        }
      ]
    },
    {
      "metadata": {
        "id": "z6bcyByE_ZvZ",
        "colab_type": "code",
        "colab": {
          "base_uri": "https://localhost:8080/",
          "height": 51
        },
        "outputId": "b6a72278-3a5d-43af-ba00-f16210a802a8"
      },
      "cell_type": "code",
      "source": [
        "!dir"
      ],
      "execution_count": 11,
      "outputs": [
        {
          "output_type": "stream",
          "text": [
            "build\t    checkpoint.zip  LICENSE   pixel2mesh\t   README.md  wget-log\n",
            "checkpoint  dist\t    pictures  pixel2mesh.egg-info  setup.py\n"
          ],
          "name": "stdout"
        }
      ]
    },
    {
      "metadata": {
        "id": "0AlnPV0J_TXz",
        "colab_type": "code",
        "colab": {
          "base_uri": "https://localhost:8080/",
          "height": 34
        },
        "outputId": "82f5b08f-9a47-4f62-c0d4-28c514abd328"
      },
      "cell_type": "code",
      "source": [
        "!whereis demo.py"
      ],
      "execution_count": 14,
      "outputs": [
        {
          "output_type": "stream",
          "text": [
            "demo:\n"
          ],
          "name": "stdout"
        }
      ]
    },
    {
      "metadata": {
        "id": "Ea-iT_3OABVb",
        "colab_type": "code",
        "colab": {}
      },
      "cell_type": "code",
      "source": [
        "!cd /content/Pixel2Mesh"
      ],
      "execution_count": 0,
      "outputs": []
    },
    {
      "metadata": {
        "id": "Lv_10tnZAdPy",
        "colab_type": "code",
        "colab": {
          "base_uri": "https://localhost:8080/",
          "height": 51
        },
        "outputId": "a28190a5-5f06-4888-c569-0406e108792c"
      },
      "cell_type": "code",
      "source": [
        "!dir"
      ],
      "execution_count": 18,
      "outputs": [
        {
          "output_type": "stream",
          "text": [
            "build\t    checkpoint.zip  LICENSE   pixel2mesh\t   README.md  wget-log\n",
            "checkpoint  dist\t    pictures  pixel2mesh.egg-info  setup.py\n"
          ],
          "name": "stdout"
        }
      ]
    },
    {
      "metadata": {
        "id": "ErqomZdm_S26",
        "colab_type": "text"
      },
      "cell_type": "markdown",
      "source": [
        ""
      ]
    },
    {
      "metadata": {
        "id": "5iWIPooSArCK",
        "colab_type": "code",
        "colab": {}
      },
      "cell_type": "code",
      "source": [
        "!cd /content/Pixel2Mesh/pixel2mesh"
      ],
      "execution_count": 0,
      "outputs": []
    },
    {
      "metadata": {
        "id": "iB1-0TtHAwGL",
        "colab_type": "code",
        "colab": {
          "base_uri": "https://localhost:8080/",
          "height": 51
        },
        "outputId": "d1378107-0af9-4682-8e44-45ab9f03181a"
      },
      "cell_type": "code",
      "source": [
        "!dir"
      ],
      "execution_count": 20,
      "outputs": [
        {
          "output_type": "stream",
          "text": [
            "build\t    checkpoint.zip  LICENSE   pixel2mesh\t   README.md  wget-log\n",
            "checkpoint  dist\t    pictures  pixel2mesh.egg-info  setup.py\n"
          ],
          "name": "stdout"
        }
      ]
    },
    {
      "metadata": {
        "id": "xAmRfUuCA5or",
        "colab_type": "code",
        "colab": {
          "base_uri": "https://localhost:8080/",
          "height": 54
        },
        "outputId": "718f09a1-cfe1-401e-fe46-9620f0a73419"
      },
      "cell_type": "code",
      "source": [
        "!cd /content/Pixel2Mesh/pixel2mesh/pixel2mesh"
      ],
      "execution_count": 21,
      "outputs": [
        {
          "output_type": "stream",
          "text": [
            "/bin/bash: line 0: cd: /content/Pixel2Mesh/pixel2mesh/pixel2mesh: No such file or directory\n"
          ],
          "name": "stdout"
        }
      ]
    },
    {
      "metadata": {
        "id": "zTg9Zj19Bc5M",
        "colab_type": "code",
        "colab": {}
      },
      "cell_type": "code",
      "source": [
        ""
      ],
      "execution_count": 0,
      "outputs": []
    },
    {
      "metadata": {
        "id": "Xbw9vjGmA7CM",
        "colab_type": "code",
        "colab": {
          "base_uri": "https://localhost:8080/",
          "height": 241
        },
        "outputId": "ea25e443-1500-46e5-85e4-11b421ec001c"
      },
      "cell_type": "code",
      "source": [
        "!python /content/Pixel2Mesh/pixel2mesh/demo.py --image /content/Pixel2Mes/pictures/plane.png"
      ],
      "execution_count": 23,
      "outputs": [
        {
          "output_type": "stream",
          "text": [
            "Traceback (most recent call last):\n",
            "  File \"/content/Pixel2Mesh/pixel2mesh/demo.py\", line 3, in <module>\n",
            "    from pixel2mesh.models import GCN\n",
            "  File \"build/bdist.linux-x86_64/egg/pixel2mesh/models.py\", line 3, in <module>\n",
            "    from pixel2mesh.losses import *\n",
            "  File \"build/bdist.linux-x86_64/egg/pixel2mesh/losses.py\", line 2, in <module>\n",
            "    from pixel2mesh.cd_dist import *\n",
            "  File \"build/bdist.linux-x86_64/egg/pixel2mesh/cd_dist.py\", line 3, in <module>\n",
            "    nn_distance_module=tf.load_op_library('./cd_dist.so')\n",
            "  File \"/usr/local/lib/python2.7/dist-packages/tensorflow/python/framework/load_library.py\", line 56, in load_op_library\n",
            "    lib_handle = py_tf.TF_LoadLibrary(library_filename)\n",
            "tensorflow.python.framework.errors_impl.NotFoundError: ./cd_dist.so: cannot open shared object file: No such file or directory\n"
          ],
          "name": "stdout"
        }
      ]
    },
    {
      "metadata": {
        "id": "nrUhAY5uCT8i",
        "colab_type": "code",
        "colab": {
          "base_uri": "https://localhost:8080/",
          "height": 88
        },
        "outputId": "e1b975ef-a020-488e-b4e1-c96761efd9a2"
      },
      "cell_type": "code",
      "source": [
        "!pip install pixel2mesh.models"
      ],
      "execution_count": 24,
      "outputs": [
        {
          "output_type": "stream",
          "text": [
            "Collecting pixel2mesh.models\n",
            "\u001b[31m  Could not find a version that satisfies the requirement pixel2mesh.models (from versions: )\u001b[0m\n",
            "\u001b[31mNo matching distribution found for pixel2mesh.models\u001b[0m\n"
          ],
          "name": "stdout"
        }
      ]
    },
    {
      "metadata": {
        "id": "7R3Gm-e2CoWT",
        "colab_type": "code",
        "colab": {}
      },
      "cell_type": "code",
      "source": [
        "!cd pixel2mesh/utils"
      ],
      "execution_count": 0,
      "outputs": []
    },
    {
      "metadata": {
        "id": "2K3SCWc4CuA8",
        "colab_type": "code",
        "colab": {
          "base_uri": "https://localhost:8080/",
          "height": 85
        },
        "outputId": "007c8b13-0619-42a6-e6c7-9c5971e08e63"
      },
      "cell_type": "code",
      "source": [
        "!tar -xzf ShapeNetTrain.tar"
      ],
      "execution_count": 26,
      "outputs": [
        {
          "output_type": "stream",
          "text": [
            "tar (child): ShapeNetTrain.tar: Cannot open: No such file or directory\n",
            "tar (child): Error is not recoverable: exiting now\n",
            "tar: Child returned status 2\n",
            "tar: Error is not recoverable: exiting now\n"
          ],
          "name": "stdout"
        }
      ]
    },
    {
      "metadata": {
        "id": "QDy6RZuICxPi",
        "colab_type": "code",
        "colab": {
          "base_uri": "https://localhost:8080/",
          "height": 241
        },
        "outputId": "9ac212b4-36c0-4593-a873-75d9efd4ea32"
      },
      "cell_type": "code",
      "source": [
        "!python /content/Pixel2Mesh/pixel2mesh/train.py"
      ],
      "execution_count": 29,
      "outputs": [
        {
          "output_type": "stream",
          "text": [
            "Traceback (most recent call last):\n",
            "  File \"/content/Pixel2Mesh/pixel2mesh/train.py\", line 3, in <module>\n",
            "    from pixel2mesh.models import GCN\n",
            "  File \"build/bdist.linux-x86_64/egg/pixel2mesh/models.py\", line 3, in <module>\n",
            "    from pixel2mesh.losses import *\n",
            "  File \"build/bdist.linux-x86_64/egg/pixel2mesh/losses.py\", line 2, in <module>\n",
            "    from pixel2mesh.cd_dist import *\n",
            "  File \"build/bdist.linux-x86_64/egg/pixel2mesh/cd_dist.py\", line 3, in <module>\n",
            "    nn_distance_module=tf.load_op_library('./cd_dist.so')\n",
            "  File \"/usr/local/lib/python2.7/dist-packages/tensorflow/python/framework/load_library.py\", line 56, in load_op_library\n",
            "    lib_handle = py_tf.TF_LoadLibrary(library_filename)\n",
            "tensorflow.python.framework.errors_impl.NotFoundError: ./cd_dist.so: cannot open shared object file: No such file or directory\n"
          ],
          "name": "stdout"
        }
      ]
    },
    {
      "metadata": {
        "id": "BtiO3420DASq",
        "colab_type": "code",
        "colab": {}
      },
      "cell_type": "code",
      "source": [
        "!cd /content/Pixel2Mesh/pixel2mesh"
      ],
      "execution_count": 0,
      "outputs": []
    },
    {
      "metadata": {
        "id": "YOPs85lJDGpS",
        "colab_type": "code",
        "colab": {
          "base_uri": "https://localhost:8080/",
          "height": 51
        },
        "outputId": "981ac959-d848-4246-d082-ce3ce114aa7d"
      },
      "cell_type": "code",
      "source": [
        "!dir"
      ],
      "execution_count": 33,
      "outputs": [
        {
          "output_type": "stream",
          "text": [
            "build\t    checkpoint.zip  LICENSE   pixel2mesh\t   README.md  wget-log\n",
            "checkpoint  dist\t    pictures  pixel2mesh.egg-info  setup.py\n"
          ],
          "name": "stdout"
        }
      ]
    },
    {
      "metadata": {
        "id": "3Zp1wI0bDYJa",
        "colab_type": "code",
        "colab": {}
      },
      "cell_type": "code",
      "source": [
        "!cd /content/Pixel2Mesh/pixel2mesh/utils"
      ],
      "execution_count": 0,
      "outputs": []
    },
    {
      "metadata": {
        "id": "jWXIQAjbDfVq",
        "colab_type": "code",
        "colab": {
          "base_uri": "https://localhost:8080/",
          "height": 51
        },
        "outputId": "55b1ef4e-983e-4083-e91d-d035ae5c5e34"
      },
      "cell_type": "code",
      "source": [
        "!wget https://drive.google.com/file/d/1Z8gt4HdPujBNFABYrthhau9VZW10WWYe/view?usp=sharing "
      ],
      "execution_count": 36,
      "outputs": [
        {
          "output_type": "stream",
          "text": [
            "\n",
            "Redirecting output to ‘wget-log.2’.\n"
          ],
          "name": "stdout"
        }
      ]
    },
    {
      "metadata": {
        "id": "_jHRwOwoDfG6",
        "colab_type": "code",
        "colab": {
          "base_uri": "https://localhost:8080/",
          "height": 68
        },
        "outputId": "daf5f559-7f3c-47e7-aebc-6a7b5c96f966"
      },
      "cell_type": "code",
      "source": [
        "!dir"
      ],
      "execution_count": 37,
      "outputs": [
        {
          "output_type": "stream",
          "text": [
            "build\t\tdist\t  pixel2mesh\t       setup.py\t\t   wget-log\n",
            "checkpoint\tLICENSE   pixel2mesh.egg-info  view?usp=sharing    wget-log.1\n",
            "checkpoint.zip\tpictures  README.md\t       view?usp=sharing.1  wget-log.2\n"
          ],
          "name": "stdout"
        }
      ]
    },
    {
      "metadata": {
        "id": "Rl-1g24XD-CU",
        "colab_type": "code",
        "colab": {
          "base_uri": "https://localhost:8080/",
          "height": 85
        },
        "outputId": "9465c4ac-83ca-4097-c0ed-ede4aa5e9112"
      },
      "cell_type": "code",
      "source": [
        "!tar -xzf ShapeNetTrain.tar"
      ],
      "execution_count": 40,
      "outputs": [
        {
          "output_type": "stream",
          "text": [
            "tar (child): ShapeNetTrain.tar: Cannot open: No such file or directory\n",
            "tar (child): Error is not recoverable: exiting now\n",
            "tar: Child returned status 2\n",
            "tar: Error is not recoverable: exiting now\n"
          ],
          "name": "stdout"
        }
      ]
    },
    {
      "metadata": {
        "id": "7OFiFM8WE18L",
        "colab_type": "code",
        "colab": {}
      },
      "cell_type": "code",
      "source": [
        ""
      ],
      "execution_count": 0,
      "outputs": []
    },
    {
      "metadata": {
        "id": "83-zkZKhE2cN",
        "colab_type": "code",
        "colab": {
          "base_uri": "https://localhost:8080/",
          "height": 695
        },
        "outputId": "011111e3-655d-4965-ce1b-bbe94a7e296b"
      },
      "cell_type": "code",
      "source": [
        "# Install the PyDrive wrapper & import libraries.\n",
        "# This only needs to be done once per notebook.\n",
        "!pip install -U -q PyDrive\n",
        "from pydrive.auth import GoogleAuth\n",
        "from pydrive.drive import GoogleDrive\n",
        "from google.colab import auth\n",
        "from oauth2client.client import GoogleCredentials\n",
        "\n",
        "# Authenticate and create the PyDrive client.\n",
        "# This only needs to be done once per notebook.\n",
        "auth.authenticate_user()\n",
        "gauth = GoogleAuth()\n",
        "gauth.credentials = GoogleCredentials.get_application_default()\n",
        "drive = GoogleDrive(gauth)\n",
        "\n",
        "# Download a file based on its file ID.\n",
        "#\n",
        "# A file ID looks like: laggVyWshwcyP6kEI-y_W3P8D26sz\n",
        "file_id = '1Z8gt4HdPujBNFABYrthhau9VZW10WWYe'\n",
        "downloaded = drive.CreateFile({'1Z8gt4HdPujBNFABYrthhau9VZW10WWYe': file_id})\n",
        "print('Downloaded content \"{}\"'.format(downloaded.GetContentString()))"
      ],
      "execution_count": 41,
      "outputs": [
        {
          "output_type": "error",
          "ename": "FileNotUploadedError",
          "evalue": "ignored",
          "traceback": [
            "\u001b[0;31m\u001b[0m",
            "\u001b[0;31mFileNotUploadedError\u001b[0mTraceback (most recent call last)",
            "\u001b[0;32m<ipython-input-41-c9f659c22562>\u001b[0m in \u001b[0;36m<module>\u001b[0;34m()\u001b[0m\n\u001b[1;32m     17\u001b[0m \u001b[0mfile_id\u001b[0m \u001b[0;34m=\u001b[0m \u001b[0;34m'1Z8gt4HdPujBNFABYrthhau9VZW10WWYe'\u001b[0m\u001b[0;34m\u001b[0m\u001b[0m\n\u001b[1;32m     18\u001b[0m \u001b[0mdownloaded\u001b[0m \u001b[0;34m=\u001b[0m \u001b[0mdrive\u001b[0m\u001b[0;34m.\u001b[0m\u001b[0mCreateFile\u001b[0m\u001b[0;34m(\u001b[0m\u001b[0;34m{\u001b[0m\u001b[0;34m'1Z8gt4HdPujBNFABYrthhau9VZW10WWYe'\u001b[0m\u001b[0;34m:\u001b[0m \u001b[0mfile_id\u001b[0m\u001b[0;34m}\u001b[0m\u001b[0;34m)\u001b[0m\u001b[0;34m\u001b[0m\u001b[0m\n\u001b[0;32m---> 19\u001b[0;31m \u001b[0;32mprint\u001b[0m\u001b[0;34m(\u001b[0m\u001b[0;34m'Downloaded content \"{}\"'\u001b[0m\u001b[0;34m.\u001b[0m\u001b[0mformat\u001b[0m\u001b[0;34m(\u001b[0m\u001b[0mdownloaded\u001b[0m\u001b[0;34m.\u001b[0m\u001b[0mGetContentString\u001b[0m\u001b[0;34m(\u001b[0m\u001b[0;34m)\u001b[0m\u001b[0;34m)\u001b[0m\u001b[0;34m)\u001b[0m\u001b[0;34m\u001b[0m\u001b[0m\n\u001b[0m",
            "\u001b[0;32m/usr/local/lib/python2.7/dist-packages/pydrive/files.pyc\u001b[0m in \u001b[0;36mGetContentString\u001b[0;34m(self, mimetype, encoding, remove_bom)\u001b[0m\n\u001b[1;32m    191\u001b[0m                     \u001b[0mtype\u001b[0m\u001b[0;34m(\u001b[0m\u001b[0mself\u001b[0m\u001b[0;34m.\u001b[0m\u001b[0mcontent\u001b[0m\u001b[0;34m)\u001b[0m \u001b[0;32mis\u001b[0m \u001b[0;32mnot\u001b[0m \u001b[0mio\u001b[0m\u001b[0;34m.\u001b[0m\u001b[0mBytesIO\u001b[0m \u001b[0;32mor\u001b[0m\u001b[0;31m \u001b[0m\u001b[0;31m\\\u001b[0m\u001b[0;34m\u001b[0m\u001b[0m\n\u001b[1;32m    192\u001b[0m                     \u001b[0mself\u001b[0m\u001b[0;34m.\u001b[0m\u001b[0mhas_bom\u001b[0m \u001b[0;34m==\u001b[0m \u001b[0mremove_bom\u001b[0m\u001b[0;34m:\u001b[0m\u001b[0;34m\u001b[0m\u001b[0m\n\u001b[0;32m--> 193\u001b[0;31m       \u001b[0mself\u001b[0m\u001b[0;34m.\u001b[0m\u001b[0mFetchContent\u001b[0m\u001b[0;34m(\u001b[0m\u001b[0mmimetype\u001b[0m\u001b[0;34m,\u001b[0m \u001b[0mremove_bom\u001b[0m\u001b[0;34m)\u001b[0m\u001b[0;34m\u001b[0m\u001b[0m\n\u001b[0m\u001b[1;32m    194\u001b[0m     \u001b[0;32mreturn\u001b[0m \u001b[0mself\u001b[0m\u001b[0;34m.\u001b[0m\u001b[0mcontent\u001b[0m\u001b[0;34m.\u001b[0m\u001b[0mgetvalue\u001b[0m\u001b[0;34m(\u001b[0m\u001b[0;34m)\u001b[0m\u001b[0;34m.\u001b[0m\u001b[0mdecode\u001b[0m\u001b[0;34m(\u001b[0m\u001b[0mencoding\u001b[0m\u001b[0;34m)\u001b[0m\u001b[0;34m\u001b[0m\u001b[0m\n\u001b[1;32m    195\u001b[0m \u001b[0;34m\u001b[0m\u001b[0m\n",
            "\u001b[0;32m/usr/local/lib/python2.7/dist-packages/pydrive/files.pyc\u001b[0m in \u001b[0;36m_decorated\u001b[0;34m(self, *args, **kwargs)\u001b[0m\n\u001b[1;32m     40\u001b[0m   \u001b[0;32mdef\u001b[0m \u001b[0m_decorated\u001b[0m\u001b[0;34m(\u001b[0m\u001b[0mself\u001b[0m\u001b[0;34m,\u001b[0m \u001b[0;34m*\u001b[0m\u001b[0margs\u001b[0m\u001b[0;34m,\u001b[0m \u001b[0;34m**\u001b[0m\u001b[0mkwargs\u001b[0m\u001b[0;34m)\u001b[0m\u001b[0;34m:\u001b[0m\u001b[0;34m\u001b[0m\u001b[0m\n\u001b[1;32m     41\u001b[0m     \u001b[0;32mif\u001b[0m \u001b[0;32mnot\u001b[0m \u001b[0mself\u001b[0m\u001b[0;34m.\u001b[0m\u001b[0muploaded\u001b[0m\u001b[0;34m:\u001b[0m\u001b[0;34m\u001b[0m\u001b[0m\n\u001b[0;32m---> 42\u001b[0;31m       \u001b[0mself\u001b[0m\u001b[0;34m.\u001b[0m\u001b[0mFetchMetadata\u001b[0m\u001b[0;34m(\u001b[0m\u001b[0;34m)\u001b[0m\u001b[0;34m\u001b[0m\u001b[0m\n\u001b[0m\u001b[1;32m     43\u001b[0m     \u001b[0;32mreturn\u001b[0m \u001b[0mdecoratee\u001b[0m\u001b[0;34m(\u001b[0m\u001b[0mself\u001b[0m\u001b[0;34m,\u001b[0m \u001b[0;34m*\u001b[0m\u001b[0margs\u001b[0m\u001b[0;34m,\u001b[0m \u001b[0;34m**\u001b[0m\u001b[0mkwargs\u001b[0m\u001b[0;34m)\u001b[0m\u001b[0;34m\u001b[0m\u001b[0m\n\u001b[1;32m     44\u001b[0m   \u001b[0;32mreturn\u001b[0m \u001b[0m_decorated\u001b[0m\u001b[0;34m\u001b[0m\u001b[0m\n",
            "\u001b[0;32m/usr/local/lib/python2.7/dist-packages/pydrive/auth.pyc\u001b[0m in \u001b[0;36m_decorated\u001b[0;34m(self, *args, **kwargs)\u001b[0m\n\u001b[1;32m     73\u001b[0m       \u001b[0mself\u001b[0m\u001b[0;34m.\u001b[0m\u001b[0mhttp\u001b[0m \u001b[0;34m=\u001b[0m \u001b[0mself\u001b[0m\u001b[0;34m.\u001b[0m\u001b[0mauth\u001b[0m\u001b[0;34m.\u001b[0m\u001b[0mGet_Http_Object\u001b[0m\u001b[0;34m(\u001b[0m\u001b[0;34m)\u001b[0m\u001b[0;34m\u001b[0m\u001b[0m\n\u001b[1;32m     74\u001b[0m \u001b[0;34m\u001b[0m\u001b[0m\n\u001b[0;32m---> 75\u001b[0;31m     \u001b[0;32mreturn\u001b[0m \u001b[0mdecoratee\u001b[0m\u001b[0;34m(\u001b[0m\u001b[0mself\u001b[0m\u001b[0;34m,\u001b[0m \u001b[0;34m*\u001b[0m\u001b[0margs\u001b[0m\u001b[0;34m,\u001b[0m \u001b[0;34m**\u001b[0m\u001b[0mkwargs\u001b[0m\u001b[0;34m)\u001b[0m\u001b[0;34m\u001b[0m\u001b[0m\n\u001b[0m\u001b[1;32m     76\u001b[0m   \u001b[0;32mreturn\u001b[0m \u001b[0m_decorated\u001b[0m\u001b[0;34m\u001b[0m\u001b[0m\n\u001b[1;32m     77\u001b[0m \u001b[0;34m\u001b[0m\u001b[0m\n",
            "\u001b[0;32m/usr/local/lib/python2.7/dist-packages/pydrive/files.pyc\u001b[0m in \u001b[0;36mFetchMetadata\u001b[0;34m(self, fields, fetch_all)\u001b[0m\n\u001b[1;32m    242\u001b[0m         \u001b[0mself\u001b[0m\u001b[0;34m.\u001b[0m\u001b[0mUpdateMetadata\u001b[0m\u001b[0;34m(\u001b[0m\u001b[0mmetadata\u001b[0m\u001b[0;34m)\u001b[0m\u001b[0;34m\u001b[0m\u001b[0m\n\u001b[1;32m    243\u001b[0m     \u001b[0;32melse\u001b[0m\u001b[0;34m:\u001b[0m\u001b[0;34m\u001b[0m\u001b[0m\n\u001b[0;32m--> 244\u001b[0;31m       \u001b[0;32mraise\u001b[0m \u001b[0mFileNotUploadedError\u001b[0m\u001b[0;34m(\u001b[0m\u001b[0;34m)\u001b[0m\u001b[0;34m\u001b[0m\u001b[0m\n\u001b[0m\u001b[1;32m    245\u001b[0m \u001b[0;34m\u001b[0m\u001b[0m\n\u001b[1;32m    246\u001b[0m   \u001b[0;34m@\u001b[0m\u001b[0mLoadMetadata\u001b[0m\u001b[0;34m\u001b[0m\u001b[0m\n",
            "\u001b[0;31mFileNotUploadedError\u001b[0m: "
          ]
        }
      ]
    }
  ]
}